{
 "cells": [
  {
   "cell_type": "code",
   "execution_count": 1,
   "metadata": {},
   "outputs": [],
   "source": [
    "# Dependencies\n",
    "import pandas as pd"
   ]
  },
  {
   "cell_type": "code",
   "execution_count": 2,
   "metadata": {},
   "outputs": [],
   "source": [
    "# Save path to data set in a variable\n",
    "data_file = \"Resources/dataSet.csv\""
   ]
  },
  {
   "cell_type": "code",
   "execution_count": 3,
   "metadata": {},
   "outputs": [
    {
     "data": {
      "text/html": [
       "<div>\n",
       "<style scoped>\n",
       "    .dataframe tbody tr th:only-of-type {\n",
       "        vertical-align: middle;\n",
       "    }\n",
       "\n",
       "    .dataframe tbody tr th {\n",
       "        vertical-align: top;\n",
       "    }\n",
       "\n",
       "    .dataframe thead th {\n",
       "        text-align: right;\n",
       "    }\n",
       "</style>\n",
       "<table border=\"1\" class=\"dataframe\">\n",
       "  <thead>\n",
       "    <tr style=\"text-align: right;\">\n",
       "      <th></th>\n",
       "      <th>id</th>\n",
       "      <th>First Name</th>\n",
       "      <th>Last Name</th>\n",
       "      <th>Gender</th>\n",
       "      <th>Amount</th>\n",
       "    </tr>\n",
       "  </thead>\n",
       "  <tbody>\n",
       "    <tr>\n",
       "      <th>990</th>\n",
       "      <td>991</td>\n",
       "      <td>Norma</td>\n",
       "      <td>Daniels</td>\n",
       "      <td>F</td>\n",
       "      <td>10847.3</td>\n",
       "    </tr>\n",
       "    <tr>\n",
       "      <th>991</th>\n",
       "      <td>992</td>\n",
       "      <td>Margaret</td>\n",
       "      <td>Hart</td>\n",
       "      <td>F</td>\n",
       "      <td>17337.6</td>\n",
       "    </tr>\n",
       "    <tr>\n",
       "      <th>992</th>\n",
       "      <td>993</td>\n",
       "      <td>Debra</td>\n",
       "      <td>Bell</td>\n",
       "      <td>F</td>\n",
       "      <td>18906.5</td>\n",
       "    </tr>\n",
       "    <tr>\n",
       "      <th>993</th>\n",
       "      <td>994</td>\n",
       "      <td>Aaron</td>\n",
       "      <td>Mitchell</td>\n",
       "      <td>M</td>\n",
       "      <td>19881.7</td>\n",
       "    </tr>\n",
       "    <tr>\n",
       "      <th>994</th>\n",
       "      <td>995</td>\n",
       "      <td>Bonnie</td>\n",
       "      <td>Lane</td>\n",
       "      <td>F</td>\n",
       "      <td>6720.7</td>\n",
       "    </tr>\n",
       "    <tr>\n",
       "      <th>995</th>\n",
       "      <td>996</td>\n",
       "      <td>Paula</td>\n",
       "      <td>Reed</td>\n",
       "      <td>F</td>\n",
       "      <td>17868.5</td>\n",
       "    </tr>\n",
       "    <tr>\n",
       "      <th>996</th>\n",
       "      <td>997</td>\n",
       "      <td>Paula</td>\n",
       "      <td>Fox</td>\n",
       "      <td>F</td>\n",
       "      <td>15182.9</td>\n",
       "    </tr>\n",
       "    <tr>\n",
       "      <th>997</th>\n",
       "      <td>998</td>\n",
       "      <td>Thomas</td>\n",
       "      <td>Andrews</td>\n",
       "      <td>M</td>\n",
       "      <td>3720.7</td>\n",
       "    </tr>\n",
       "    <tr>\n",
       "      <th>998</th>\n",
       "      <td>999</td>\n",
       "      <td>Jacqueline</td>\n",
       "      <td>Moreno</td>\n",
       "      <td>F</td>\n",
       "      <td>10824.6</td>\n",
       "    </tr>\n",
       "    <tr>\n",
       "      <th>999</th>\n",
       "      <td>1000</td>\n",
       "      <td>Deborah</td>\n",
       "      <td>Young</td>\n",
       "      <td>F</td>\n",
       "      <td>6090.7</td>\n",
       "    </tr>\n",
       "  </tbody>\n",
       "</table>\n",
       "</div>"
      ],
      "text/plain": [
       "       id  First Name Last Name Gender   Amount\n",
       "990   991       Norma   Daniels      F  10847.3\n",
       "991   992    Margaret      Hart      F  17337.6\n",
       "992   993       Debra      Bell      F  18906.5\n",
       "993   994       Aaron  Mitchell      M  19881.7\n",
       "994   995      Bonnie      Lane      F   6720.7\n",
       "995   996       Paula      Reed      F  17868.5\n",
       "996   997       Paula       Fox      F  15182.9\n",
       "997   998      Thomas   Andrews      M   3720.7\n",
       "998   999  Jacqueline    Moreno      F  10824.6\n",
       "999  1000     Deborah     Young      F   6090.7"
      ]
     },
     "execution_count": 3,
     "metadata": {},
     "output_type": "execute_result"
    }
   ],
   "source": [
    "# Use Pandas to read data\n",
    "data_file_pd = pd.read_csv(data_file)\n",
    "data_file_pd.tail(10)"
   ]
  },
  {
   "cell_type": "code",
   "execution_count": 8,
   "metadata": {},
   "outputs": [
    {
     "data": {
      "text/plain": [
       "id              int64\n",
       "First Name     object\n",
       "Last Name      object\n",
       "Gender         object\n",
       "Amount        float64\n",
       "dtype: object"
      ]
     },
     "execution_count": 8,
     "metadata": {},
     "output_type": "execute_result"
    }
   ],
   "source": [
    "data_file_pd.dtypes"
   ]
  },
  {
   "cell_type": "code",
   "execution_count": 4,
   "metadata": {},
   "outputs": [
    {
     "data": {
      "text/html": [
       "<div>\n",
       "<style scoped>\n",
       "    .dataframe tbody tr th:only-of-type {\n",
       "        vertical-align: middle;\n",
       "    }\n",
       "\n",
       "    .dataframe tbody tr th {\n",
       "        vertical-align: top;\n",
       "    }\n",
       "\n",
       "    .dataframe thead th {\n",
       "        text-align: right;\n",
       "    }\n",
       "</style>\n",
       "<table border=\"1\" class=\"dataframe\">\n",
       "  <thead>\n",
       "    <tr style=\"text-align: right;\">\n",
       "      <th></th>\n",
       "      <th>Amount</th>\n",
       "      <th>Gender</th>\n",
       "    </tr>\n",
       "  </thead>\n",
       "  <tbody>\n",
       "    <tr>\n",
       "      <th>0</th>\n",
       "      <td>8067.7</td>\n",
       "      <td>M</td>\n",
       "    </tr>\n",
       "    <tr>\n",
       "      <th>1</th>\n",
       "      <td>7330.1</td>\n",
       "      <td>M</td>\n",
       "    </tr>\n",
       "    <tr>\n",
       "      <th>2</th>\n",
       "      <td>16335.0</td>\n",
       "      <td>F</td>\n",
       "    </tr>\n",
       "    <tr>\n",
       "      <th>3</th>\n",
       "      <td>12460.8</td>\n",
       "      <td>F</td>\n",
       "    </tr>\n",
       "    <tr>\n",
       "      <th>4</th>\n",
       "      <td>15271.9</td>\n",
       "      <td>F</td>\n",
       "    </tr>\n",
       "  </tbody>\n",
       "</table>\n",
       "</div>"
      ],
      "text/plain": [
       "    Amount Gender\n",
       "0   8067.7      M\n",
       "1   7330.1      M\n",
       "2  16335.0      F\n",
       "3  12460.8      F\n",
       "4  15271.9      F"
      ]
     },
     "execution_count": 4,
     "metadata": {},
     "output_type": "execute_result"
    }
   ],
   "source": [
    "# Reference multiple columns within a DataFrame\n",
    "data_file_pd[[\"Amount\", \"Gender\"]].head()"
   ]
  },
  {
   "cell_type": "code",
   "execution_count": 6,
   "metadata": {
    "inputHidden": false,
    "outputHidden": false
   },
   "outputs": [
    {
     "data": {
      "text/html": [
       "<div>\n",
       "<style scoped>\n",
       "    .dataframe tbody tr th:only-of-type {\n",
       "        vertical-align: middle;\n",
       "    }\n",
       "\n",
       "    .dataframe tbody tr th {\n",
       "        vertical-align: top;\n",
       "    }\n",
       "\n",
       "    .dataframe thead th {\n",
       "        text-align: right;\n",
       "    }\n",
       "</style>\n",
       "<table border=\"1\" class=\"dataframe\">\n",
       "  <thead>\n",
       "    <tr style=\"text-align: right;\">\n",
       "      <th></th>\n",
       "      <th>id</th>\n",
       "      <th>Amount</th>\n",
       "    </tr>\n",
       "  </thead>\n",
       "  <tbody>\n",
       "    <tr>\n",
       "      <th>count</th>\n",
       "      <td>1000.000000</td>\n",
       "      <td>1000.000000</td>\n",
       "    </tr>\n",
       "    <tr>\n",
       "      <th>mean</th>\n",
       "      <td>500.500000</td>\n",
       "      <td>10051.323600</td>\n",
       "    </tr>\n",
       "    <tr>\n",
       "      <th>std</th>\n",
       "      <td>288.819436</td>\n",
       "      <td>5831.230806</td>\n",
       "    </tr>\n",
       "    <tr>\n",
       "      <th>min</th>\n",
       "      <td>1.000000</td>\n",
       "      <td>3.400000</td>\n",
       "    </tr>\n",
       "    <tr>\n",
       "      <th>25%</th>\n",
       "      <td>250.750000</td>\n",
       "      <td>4854.875000</td>\n",
       "    </tr>\n",
       "    <tr>\n",
       "      <th>50%</th>\n",
       "      <td>500.500000</td>\n",
       "      <td>10318.050000</td>\n",
       "    </tr>\n",
       "    <tr>\n",
       "      <th>75%</th>\n",
       "      <td>750.250000</td>\n",
       "      <td>15117.425000</td>\n",
       "    </tr>\n",
       "    <tr>\n",
       "      <th>max</th>\n",
       "      <td>1000.000000</td>\n",
       "      <td>19987.400000</td>\n",
       "    </tr>\n",
       "  </tbody>\n",
       "</table>\n",
       "</div>"
      ],
      "text/plain": [
       "                id        Amount\n",
       "count  1000.000000   1000.000000\n",
       "mean    500.500000  10051.323600\n",
       "std     288.819436   5831.230806\n",
       "min       1.000000      3.400000\n",
       "25%     250.750000   4854.875000\n",
       "50%     500.500000  10318.050000\n",
       "75%     750.250000  15117.425000\n",
       "max    1000.000000  19987.400000"
      ]
     },
     "execution_count": 6,
     "metadata": {},
     "output_type": "execute_result"
    }
   ],
   "source": [
    "# Display a statistical overview of the DataFrame\n",
    "data_file_pd.describe()"
   ]
  },
  {
   "cell_type": "code",
   "execution_count": 5,
   "metadata": {},
   "outputs": [
    {
     "data": {
      "text/plain": [
       "0     8067.7\n",
       "1     7330.1\n",
       "2    16335.0\n",
       "3    12460.8\n",
       "4    15271.9\n",
       "Name: Amount, dtype: float64"
      ]
     },
     "execution_count": 5,
     "metadata": {},
     "output_type": "execute_result"
    }
   ],
   "source": [
    "# Reference a single column within a DataFrame\n",
    "data_file_pd[\"Amount\"].head()"
   ]
  },
  {
   "cell_type": "code",
   "execution_count": null,
   "metadata": {},
   "outputs": [],
   "source": [
    "# The mean method averages the series\n",
    "average = data_file_pd[\"Amount\"].mean()\n",
    "average"
   ]
  },
  {
   "cell_type": "code",
   "execution_count": null,
   "metadata": {},
   "outputs": [],
   "source": [
    "# The sum method adds every entry in the series\n",
    "total = data_file_pd[\"Amount\"].sum()\n",
    "total"
   ]
  },
  {
   "cell_type": "code",
   "execution_count": 3,
   "metadata": {
    "scrolled": false
   },
   "outputs": [
    {
     "data": {
      "text/plain": [
       "array(['Lopez', 'White', 'Lewis', 'Burns', 'Romero', 'Andrews', 'Baker',\n",
       "       'Diaz', 'Burke', 'Richards', 'Hansen', 'Tucker', 'Wheeler',\n",
       "       'Turner', 'Reynolds', 'Carpenter', 'Scott', 'Ryan', 'Marshall',\n",
       "       'Fernandez', 'Olson', 'Riley', 'Woods', 'Wells', 'Gutierrez',\n",
       "       'Harvey', 'Ruiz', 'Lee', 'Welch', 'Cooper', 'Nichols', 'Murray',\n",
       "       'Gomez', 'Green', 'Jacobs', 'Griffin', 'Perry', 'Dunn', 'Gardner',\n",
       "       'Gray', 'Walker', 'Harris', 'Lawrence', 'Black', 'Simpson', 'Sims',\n",
       "       'Weaver', 'Carr', 'Owens', 'Stephens', 'Butler', 'Matthews', 'Cox',\n",
       "       'Brooks', 'Austin', 'Moore', 'Hunter', 'Cunningham', 'Lane',\n",
       "       'Montgomery', 'Vasquez', 'Freeman', 'Hernandez', 'Alexander',\n",
       "       'Pierce', 'Mcdonald', 'Kelly', 'Foster', 'Bell', 'Johnson',\n",
       "       'Bowman', 'Porter', 'Wood', 'Reid', 'Willis', 'Bishop',\n",
       "       'Washington', 'Gonzales', 'Davis', 'Martinez', 'Martin', 'Long',\n",
       "       'Howell', 'Hawkins', 'Knight', 'Price', 'Day', 'Bailey', 'Flores',\n",
       "       'Young', 'Evans', 'Cruz', 'Chavez', 'Barnes', 'Coleman', 'Burton',\n",
       "       'Clark', 'Carter', 'Franklin', 'Ellis', 'Miller', 'Allen', 'Mason',\n",
       "       'Patterson', 'Stevens', 'Kim', 'Kelley', 'Robinson', 'Hughes',\n",
       "       'Morgan', 'Dean', 'Stewart', 'Murphy', 'Fox', 'Simmons',\n",
       "       'Thompson', 'Fuller', 'Peterson', 'Hanson', 'Wright', 'Reed',\n",
       "       'Graham', 'Parker', 'Boyd', 'Taylor', 'Greene', 'George', 'Mills',\n",
       "       'Duncan', 'Hill', 'Jordan', 'Stanley', 'Hall', 'James', 'Stone',\n",
       "       'Warren', 'Fowler', 'Williamson', 'Lynch', 'Harper', 'Little',\n",
       "       'Nguyen', 'Morrison', 'Ramirez', 'Howard', 'Watkins', 'Robertson',\n",
       "       'Powell', 'Sanchez', 'Sanders', 'Grant', 'Ross', 'Mitchell',\n",
       "       'Henderson', 'Rose', 'Perez', 'Berry', 'Watson', 'Gordon',\n",
       "       'Morales', 'Arnold', 'Morris', 'Crawford', 'Smith', 'Medina',\n",
       "       'Alvarez', 'Collins', 'Rodriguez', 'Mccoy', 'Bennett',\n",
       "       'Richardson', 'Chapman', 'Johnston', 'Gilbert', 'Ford', 'Russell',\n",
       "       'Nelson', 'Castillo', 'Cole', 'Rice', 'Payne', 'Frazier', 'Webb',\n",
       "       'Armstrong', 'Wilson', 'Garza', 'Garrett', 'Spencer', 'Peters',\n",
       "       'Sullivan', 'Brown', 'Williams', 'Gonzalez', 'Palmer', 'Fields',\n",
       "       'Snyder', 'Jackson', 'Edwards', 'Anderson', 'Cook', 'Ramos',\n",
       "       'Harrison', 'Lawson', 'Banks', 'Wallace', 'Ortiz', 'Gibson',\n",
       "       'Reyes', 'Shaw', 'Ward', 'Perkins', 'Bradley', 'Rivera', 'Jenkins',\n",
       "       'Hart', 'Phillips', 'Garcia', 'Fisher', 'King', 'Larson', 'Hunt',\n",
       "       'Jones', 'Hudson', 'Myers', 'Hayes', 'Dixon', 'Schmidt', 'Moreno',\n",
       "       'Rogers', 'Thomas', 'Meyer', 'Daniels', 'Bryant', 'Henry',\n",
       "       'Campbell', 'Ferguson', 'Oliver', 'Ray', 'Carroll', 'Wagner',\n",
       "       'Kennedy', 'Holmes'], dtype=object)"
      ]
     },
     "execution_count": 3,
     "metadata": {},
     "output_type": "execute_result"
    }
   ],
   "source": [
    "# The unique method shows every element of the series that appears only once\n",
    "unique = data_file_pd[\"Last Name\"].unique()\n",
    "unique"
   ]
  },
  {
   "cell_type": "code",
   "execution_count": 7,
   "metadata": {},
   "outputs": [
    {
     "data": {
      "text/plain": [
       "M    515\n",
       "F    485\n",
       "Name: Gender, dtype: int64"
      ]
     },
     "execution_count": 7,
     "metadata": {},
     "output_type": "execute_result"
    }
   ],
   "source": [
    "# The value_counts method counts unique values in a column\n",
    "count = data_file_pd[\"Gender\"].value_counts()\n",
    "count"
   ]
  },
  {
   "cell_type": "code",
   "execution_count": null,
   "metadata": {},
   "outputs": [],
   "source": [
    "# Calculations can also be performed on Series and added into DataFrames as new columns\n",
    "thousands_of_dollars = data_file_pd[\"Amount\"]/1000\n",
    "data_file_pd[\"Thousands of Dollars\"] = thousands_of_dollars\n",
    "\n",
    "data_file_pd.head()"
   ]
  }
 ],
 "metadata": {
  "anaconda-cloud": {},
  "kernel_info": {
   "name": "python3"
  },
  "kernelspec": {
   "display_name": "PythonData",
   "language": "python",
   "name": "pythondata"
  },
  "language_info": {
   "codemirror_mode": {
    "name": "ipython",
    "version": 3
   },
   "file_extension": ".py",
   "mimetype": "text/x-python",
   "name": "python",
   "nbconvert_exporter": "python",
   "pygments_lexer": "ipython3",
   "version": "3.7.10"
  },
  "nteract": {
   "version": "0.2.0"
  }
 },
 "nbformat": 4,
 "nbformat_minor": 2
}
